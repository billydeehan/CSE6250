{
 "cells": [
  {
   "cell_type": "code",
   "execution_count": 19,
   "metadata": {},
   "outputs": [],
   "source": [
    "from data_preprocessing import load_data, clean_data, impute_missing_values, merge_data_sources  \n",
    "from feature_engineering import encode_categorical_features, calculate_feature_importance  \n",
    "from model_training import split_data, train_model, hyperparameter_tuning, evaluate_model  \n",
    "from model_evaluation import calculate_metrics, perform_bootstrap_analysis, generate_critical_difference_diagrams  \n",
    "from model_interpretation import permutation_feature_importance, accumulated_local_effects, local_interpretable_model_explanations  \n",
    "from deployment_preparation import select_best_model, save_model, create_deployment_pipeline  \n",
    "import pandas as pd\n",
    "import os"
   ]
  },
  {
   "cell_type": "code",
   "execution_count": 17,
   "metadata": {},
   "outputs": [
    {
     "name": "stdout",
     "output_type": "stream",
     "text": [
      "current directory:  d:\\CSE6250\\project\\CSE6250\\code\n",
      "directory changed to:  d:\\CSE6250\\project\\CSE6250\n"
     ]
    }
   ],
   "source": [
    "current_directory = os.getcwd()\n",
    "print(\"current directory: \", current_directory)\n",
    "if current_directory.endswith('code'):\n",
    "    parent_directory = os.path.dirname(current_directory)\n",
    "    os.chdir(parent_directory)\n",
    "    print(\"directory changed to: \", os.getcwd())\n"
   ]
  },
  {
   "cell_type": "code",
   "execution_count": 21,
   "metadata": {},
   "outputs": [
    {
     "name": "stdout",
     "output_type": "stream",
     "text": [
      "d:\\CSE6250\\project\\CSE6250\n",
      "None\n"
     ]
    }
   ],
   "source": [
    "print(os.getcwd())\n",
    "df = load_data()\n",
    "print(df)"
   ]
  }
 ],
 "metadata": {
  "kernelspec": {
   "display_name": "Python 3",
   "language": "python",
   "name": "python3"
  },
  "language_info": {
   "codemirror_mode": {
    "name": "ipython",
    "version": 3
   },
   "file_extension": ".py",
   "mimetype": "text/x-python",
   "name": "python",
   "nbconvert_exporter": "python",
   "pygments_lexer": "ipython3",
   "version": "3.10.4"
  }
 },
 "nbformat": 4,
 "nbformat_minor": 2
}
