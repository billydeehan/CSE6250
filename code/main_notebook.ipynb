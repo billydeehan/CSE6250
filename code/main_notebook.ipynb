{
 "cells": [
  {
   "cell_type": "code",
   "execution_count": null,
   "metadata": {},
   "outputs": [],
   "source": [
    "from data_preprocessing import load_data, clean_data, impute_missing_values, merge_data_sources  \n",
    "from feature_engineering import encode_categorical_features, calculate_feature_importance  \n",
    "from model_training import split_data, train_model, hyperparameter_tuning, evaluate_model  \n",
    "from model_evaluation import calculate_metrics, perform_bootstrap_analysis, generate_critical_difference_diagrams  \n",
    "from model_interpretation import permutation_feature_importance, accumulated_local_effects, local_interpretable_model_explanations  \n",
    "from deployment_preparation import select_best_model, save_model, create_deployment_pipeline  "
   ]
  }
 ],
 "metadata": {
  "language_info": {
   "name": "python"
  }
 },
 "nbformat": 4,
 "nbformat_minor": 2
}
